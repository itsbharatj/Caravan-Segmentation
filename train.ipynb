{
 "cells": [
  {
   "cell_type": "code",
   "execution_count": 2,
   "metadata": {},
   "outputs": [
    {
     "name": "stdout",
     "output_type": "stream",
     "text": [
      "\u001b[33mDEPRECATION: Loading egg at /Users/bharatjain/miniforge3/envs/dl/lib/python3.11/site-packages/sniffio-1.3.1-py3.11.egg is deprecated. pip 24.3 will enforce this behaviour change. A possible replacement is to use pip for package installation. Discussion can be found at https://github.com/pypa/pip/issues/12330\u001b[0m\u001b[33m\n",
      "\u001b[0m\u001b[33mDEPRECATION: Loading egg at /Users/bharatjain/miniforge3/envs/dl/lib/python3.11/site-packages/attrs-24.2.0-py3.11.egg is deprecated. pip 24.3 will enforce this behaviour change. A possible replacement is to use pip for package installation. Discussion can be found at https://github.com/pypa/pip/issues/12330\u001b[0m\u001b[33m\n",
      "\u001b[0m\u001b[33mDEPRECATION: Loading egg at /Users/bharatjain/miniforge3/envs/dl/lib/python3.11/site-packages/sortedcontainers-2.4.0-py3.11.egg is deprecated. pip 24.3 will enforce this behaviour change. A possible replacement is to use pip for package installation. Discussion can be found at https://github.com/pypa/pip/issues/12330\u001b[0m\u001b[33m\n",
      "\u001b[0m\u001b[33mDEPRECATION: Loading egg at /Users/bharatjain/miniforge3/envs/dl/lib/python3.11/site-packages/outcome-1.3.0.post0-py3.11.egg is deprecated. pip 24.3 will enforce this behaviour change. A possible replacement is to use pip for package installation. Discussion can be found at https://github.com/pypa/pip/issues/12330\u001b[0m\u001b[33m\n",
      "\u001b[0m\u001b[33mDEPRECATION: Loading egg at /Users/bharatjain/miniforge3/envs/dl/lib/python3.11/site-packages/websocket_client-1.8.0-py3.11.egg is deprecated. pip 24.3 will enforce this behaviour change. A possible replacement is to use pip for package installation. Discussion can be found at https://github.com/pypa/pip/issues/12330\u001b[0m\u001b[33m\n",
      "\u001b[0m\u001b[33mDEPRECATION: Loading egg at /Users/bharatjain/miniforge3/envs/dl/lib/python3.11/site-packages/wsproto-1.2.0-py3.11.egg is deprecated. pip 24.3 will enforce this behaviour change. A possible replacement is to use pip for package installation. Discussion can be found at https://github.com/pypa/pip/issues/12330\u001b[0m\u001b[33m\n",
      "\u001b[0m\u001b[33mDEPRECATION: Loading egg at /Users/bharatjain/miniforge3/envs/dl/lib/python3.11/site-packages/h11-0.14.0-py3.11.egg is deprecated. pip 24.3 will enforce this behaviour change. A possible replacement is to use pip for package installation. Discussion can be found at https://github.com/pypa/pip/issues/12330\u001b[0m\u001b[33m\n",
      "\u001b[0m\u001b[33mDEPRECATION: Loading egg at /Users/bharatjain/miniforge3/envs/dl/lib/python3.11/site-packages/google_images_download-2.8.0-py3.11.egg is deprecated. pip 24.3 will enforce this behaviour change. A possible replacement is to use pip for package installation. Discussion can be found at https://github.com/pypa/pip/issues/12330\u001b[0m\u001b[33m\n",
      "\u001b[0m\u001b[33mDEPRECATION: Loading egg at /Users/bharatjain/miniforge3/envs/dl/lib/python3.11/site-packages/selenium-4.25.0-py3.11.egg is deprecated. pip 24.3 will enforce this behaviour change. A possible replacement is to use pip for package installation. Discussion can be found at https://github.com/pypa/pip/issues/12330\u001b[0m\u001b[33m\n",
      "\u001b[0m\u001b[33mDEPRECATION: Loading egg at /Users/bharatjain/miniforge3/envs/dl/lib/python3.11/site-packages/trio_websocket-0.11.1-py3.11.egg is deprecated. pip 24.3 will enforce this behaviour change. A possible replacement is to use pip for package installation. Discussion can be found at https://github.com/pypa/pip/issues/12330\u001b[0m\u001b[33m\n",
      "\u001b[0m\u001b[33mDEPRECATION: Loading egg at /Users/bharatjain/miniforge3/envs/dl/lib/python3.11/site-packages/trio-0.27.0-py3.11.egg is deprecated. pip 24.3 will enforce this behaviour change. A possible replacement is to use pip for package installation. Discussion can be found at https://github.com/pypa/pip/issues/12330\u001b[0m\u001b[33m\n",
      "\u001b[0mCollecting albumentations\n",
      "  Downloading albumentations-1.4.23-py3-none-any.whl.metadata (36 kB)\n",
      "Requirement already satisfied: numpy>=1.24.4 in /Users/bharatjain/miniforge3/envs/dl/lib/python3.11/site-packages (from albumentations) (1.26.4)\n",
      "Requirement already satisfied: scipy>=1.10.0 in /Users/bharatjain/miniforge3/envs/dl/lib/python3.11/site-packages (from albumentations) (1.14.1)\n",
      "Requirement already satisfied: PyYAML in /Users/bharatjain/miniforge3/envs/dl/lib/python3.11/site-packages (from albumentations) (6.0.2)\n",
      "Requirement already satisfied: pydantic>=2.9.2 in /Users/bharatjain/miniforge3/envs/dl/lib/python3.11/site-packages (from albumentations) (2.9.2)\n",
      "Collecting albucore==0.0.21 (from albumentations)\n",
      "  Downloading albucore-0.0.21-py3-none-any.whl.metadata (5.3 kB)\n",
      "Collecting eval-type-backport (from albumentations)\n",
      "  Downloading eval_type_backport-0.2.2-py3-none-any.whl.metadata (2.2 kB)\n",
      "Collecting opencv-python-headless>=4.9.0.80 (from albumentations)\n",
      "  Using cached opencv_python_headless-4.10.0.84-cp37-abi3-macosx_11_0_arm64.whl.metadata (20 kB)\n",
      "Collecting stringzilla>=3.10.4 (from albucore==0.0.21->albumentations)\n",
      "  Downloading stringzilla-3.11.2-cp311-cp311-macosx_11_0_arm64.whl.metadata (80 kB)\n",
      "Collecting simsimd>=5.9.2 (from albucore==0.0.21->albumentations)\n",
      "  Downloading simsimd-6.2.1-cp311-cp311-macosx_11_0_arm64.whl.metadata (66 kB)\n",
      "Requirement already satisfied: annotated-types>=0.6.0 in /Users/bharatjain/miniforge3/envs/dl/lib/python3.11/site-packages (from pydantic>=2.9.2->albumentations) (0.7.0)\n",
      "Requirement already satisfied: pydantic-core==2.23.4 in /Users/bharatjain/miniforge3/envs/dl/lib/python3.11/site-packages (from pydantic>=2.9.2->albumentations) (2.23.4)\n",
      "Requirement already satisfied: typing-extensions>=4.6.1 in /Users/bharatjain/miniforge3/envs/dl/lib/python3.11/site-packages (from pydantic>=2.9.2->albumentations) (4.12.2)\n",
      "Downloading albumentations-1.4.23-py3-none-any.whl (269 kB)\n",
      "Downloading albucore-0.0.21-py3-none-any.whl (12 kB)\n",
      "Using cached opencv_python_headless-4.10.0.84-cp37-abi3-macosx_11_0_arm64.whl (54.8 MB)\n",
      "Downloading eval_type_backport-0.2.2-py3-none-any.whl (5.8 kB)\n",
      "Downloading simsimd-6.2.1-cp311-cp311-macosx_11_0_arm64.whl (93 kB)\n",
      "Downloading stringzilla-3.11.2-cp311-cp311-macosx_11_0_arm64.whl (80 kB)\n",
      "Installing collected packages: stringzilla, simsimd, opencv-python-headless, eval-type-backport, albucore, albumentations\n",
      "Successfully installed albucore-0.0.21 albumentations-1.4.23 eval-type-backport-0.2.2 opencv-python-headless-4.10.0.84 simsimd-6.2.1 stringzilla-3.11.2\n"
     ]
    }
   ],
   "source": [
    "!pip install -U albumentations"
   ]
  },
  {
   "cell_type": "code",
   "execution_count": 5,
   "metadata": {},
   "outputs": [],
   "source": [
    "import torch \n",
    "import albumentations as A \n",
    "from albumentations.pytorch import ToTensorV2 \n",
    "from tqdm import tqdm \n",
    "import torch.nn as nn \n",
    "import torch.optim as optim \n",
    "from model import UNET\n",
    "# from utils import  (\n",
    "#     load_checkpoint,\n",
    "#     save_checkpoint, \n",
    "#     get_loaders,\n",
    "#     check_accuracy, \n",
    "#     save_predicitions_as_imgs\n",
    "# )"
   ]
  },
  {
   "cell_type": "code",
   "execution_count": 15,
   "metadata": {},
   "outputs": [],
   "source": [
    "## Hyperparameters: \n",
    "\n",
    "LEARNING_RATE = 1e-4\n",
    "DEVICE = \"mps\" \n",
    "BATCH_SIZE = 32 \n",
    "NUM_EPOCHS = 100 \n",
    "NUM_WORKERS = 2 \n",
    "IMAGE_HEIGHT = 160 \n",
    "IMAGE_WIDTH = 240 \n",
    "PIN_MEMORY = True \n",
    "LOAD_MODEL = False\n",
    "TRAIN_IMG_DIR = \"/Users/bharatjain/Desktop/Deep Learning/UNet/dataset/train\"\n",
    "TRAIN_MASK_DIR = \"/Users/bharatjain/Desktop/Deep Learning/UNet/dataset/train_masks\"\n",
    "VAL_IMG_DIR = \"/Users/bharatjain/Desktop/Deep Learning/UNet/dataset/valid\"\n",
    "VAL_MASK_DIR = \"/Users/bharatjain/Desktop/Deep Learning/UNet/dataset/valid_masks\""
   ]
  },
  {
   "cell_type": "code",
   "execution_count": 12,
   "metadata": {},
   "outputs": [
    {
     "name": "stdout",
     "output_type": "stream",
     "text": [
      "mps\n"
     ]
    }
   ],
   "source": [
    "import torch\n",
    "\n",
    "# Ensure MPS is available\n",
    "if torch.backends.mps.is_available():\n",
    "    device = torch.device(\"mps\")\n",
    "else:\n",
    "    raise RuntimeError(\"MPS device not available.\")\n",
    "print(device)\n",
    "# model = model.to(device)\n",
    "# data, targets = data.to(device), targets.to(device)\n",
    "\n",
    "# # Use autocast for MPS\n",
    "# with torch.autocast(device_type=\"mps\"):\n",
    "#     predictions = model(data)\n",
    "#     loss = loss_fn(predictions, targets)\n"
   ]
  },
  {
   "cell_type": "code",
   "execution_count": 13,
   "metadata": {},
   "outputs": [],
   "source": [
    "## It will do one epoch of training: \n",
    "\n",
    "def train_fn(loader,model,optimizer,loss_fn,scaler):\n",
    "    loop = tqdm(loader)\n",
    "\n",
    "    for batch_idx,(data,targets) in enumerate(loop): \n",
    "        data = data.to(device=DEVICE)\n",
    "        targets = targets.float().unsqueeze(1).to(device=DEVICE)\n",
    "\n",
    "        #forward: \n",
    "        with torch.autocast(device_type='mps'):\n",
    "            predictions = model(data)\n",
    "            loss = loss_fn(predictions,targets)\n",
    "        \n",
    "\n",
    "        #backward: \n",
    "        optimizer.zero_grad()\n",
    "        scaler.scale(loss).backward()\n",
    "        scaler.step(optimizer)\n",
    "        scaler.update()\n",
    "\n",
    "        ##Update tqdm loop: \n",
    "        loop.set_postfix(loss=loss.item())"
   ]
  },
  {
   "cell_type": "code",
   "execution_count": 14,
   "metadata": {},
   "outputs": [],
   "source": [
    "def main(): \n",
    "    train_transform = A.Compose\n",
    "    (\n",
    "        [\n",
    "            A.Resize(height=IMAGE_HEIGHT,width=IMAGE_WIDTH),\n",
    "            A.Rotate(limit=35,p=1.0),\n",
    "            A.HorizontalFlip(p=0.5), \n",
    "            A.VerticalFlip(p=0.1), \n",
    "\n",
    "            A.Normalize\n",
    "            (\n",
    "                mean=[0.0,0.0,0.0],\n",
    "                std=[1.0,1.0,1.0],\n",
    "                max_pixel_vlaues=255.0,\n",
    "            ), \n",
    "            ToTensorV2(),\n",
    "        ], \n",
    "    )\n",
    "\n",
    "    val_transforms = A.Compose\n",
    "    (\n",
    "        [\n",
    "            A.Resize(height=IMAGE_HEIGHT,width=IMAGE_WIDTH),\n",
    "            A.Normalize(\n",
    "                mean=[0.0,0.0,0.0],\n",
    "                std=[1.0,1.0,1.0],\n",
    "                max_pixel_vlaues=255.0,\n",
    "            ), \n",
    "            ToTensorV2(),\n",
    "        ]\n",
    "    )\n",
    "\n",
    "    model = UNET(in_channels=3,out_channels=1).to(DEVICE)   \n",
    "    loss_fn = nn.BCEWithLogitsLoss()\n",
    "    optimizer = optim.Adam(model.parameters(), lr=LEARNING_RATE)\n",
    "\n",
    "    train_loader, val_loader = get_loaders(\n",
    "        TRAIN_IMG_DIR,\n",
    "        TRAIN_MASK_DIR,\n",
    "        VAL_IMG_DIR, \n",
    "        VAL_MASK_DIR,\n",
    "        BATCH_SIZE,\n",
    "        train_transform,\n",
    "        val_transforms\n",
    "    )\n",
    "\n",
    "    scaler = torch.GradScaler(\"mps\")\n",
    "    for epoch in range(NUM_EPOCHS):\n",
    "        train_fn(train_loader, model, optimizer, loss_fn, scaler)\n",
    "\n",
    "        ## save model\n",
    "        ## check accuracy \n",
    "        ## print some examples into a folder\n",
    "    "
   ]
  },
  {
   "cell_type": "code",
   "execution_count": null,
   "metadata": {},
   "outputs": [],
   "source": [
    "if __name__ == \"__main__\":\n",
    "    main()"
   ]
  }
 ],
 "metadata": {
  "kernelspec": {
   "display_name": "dl",
   "language": "python",
   "name": "python3"
  },
  "language_info": {
   "codemirror_mode": {
    "name": "ipython",
    "version": 3
   },
   "file_extension": ".py",
   "mimetype": "text/x-python",
   "name": "python",
   "nbconvert_exporter": "python",
   "pygments_lexer": "ipython3",
   "version": "3.11.0"
  }
 },
 "nbformat": 4,
 "nbformat_minor": 2
}
